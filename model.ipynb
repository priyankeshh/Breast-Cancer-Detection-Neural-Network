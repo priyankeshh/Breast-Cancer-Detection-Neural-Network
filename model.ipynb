{
  "cells": [
    {
      "cell_type": "markdown",
      "metadata": {
        "id": "RNC9RB0Non0k"
      },
      "source": [
        "# Breast Cancer Classification with a simple Neural Network (NN)"
      ]
    },
    {
      "cell_type": "code",
      "execution_count": 1,
      "metadata": {
        "id": "XqsQmOXGXXTe"
      },
      "outputs": [],
      "source": [
        "import numpy as np\n",
        "import pandas as pd\n",
        "import matplotlib.pyplot as plt\n",
        "import sklearn.datasets\n",
        "from sklearn.model_selection import train_test_split"
      ]
    },
    {
      "cell_type": "markdown",
      "metadata": {
        "id": "pwJ9zLukg3Q_"
      },
      "source": [
        "## Data Collection "
      ]
    },
    {
      "cell_type": "code",
      "execution_count": 2,
      "metadata": {
        "id": "j6bMZMKUgz7L"
      },
      "outputs": [],
      "source": [
        "breast_cancer_dataset = sklearn.datasets.load_breast_cancer()"
      ]
    },
    {
      "cell_type": "code",
      "execution_count": 3,
      "metadata": {
        "colab": {
          "base_uri": "https://localhost:8080/"
        },
        "id": "xdY6i73KgkDG",
        "outputId": "d9768866-9f0f-4db9-83ca-38161a5012ef"
      },
      "outputs": [
        {
          "name": "stdout",
          "output_type": "stream",
          "text": [
            "{'data': array([[1.799e+01, 1.038e+01, 1.228e+02, ..., 2.654e-01, 4.601e-01,\n",
            "        1.189e-01],\n",
            "       [2.057e+01, 1.777e+01, 1.329e+02, ..., 1.860e-01, 2.750e-01,\n",
            "        8.902e-02],\n",
            "       [1.969e+01, 2.125e+01, 1.300e+02, ..., 2.430e-01, 3.613e-01,\n",
            "        8.758e-02],\n",
            "       ...,\n",
            "       [1.660e+01, 2.808e+01, 1.083e+02, ..., 1.418e-01, 2.218e-01,\n",
            "        7.820e-02],\n",
            "       [2.060e+01, 2.933e+01, 1.401e+02, ..., 2.650e-01, 4.087e-01,\n",
            "        1.240e-01],\n",
            "       [7.760e+00, 2.454e+01, 4.792e+01, ..., 0.000e+00, 2.871e-01,\n",
            "        7.039e-02]]), 'target': array([0, 0, 0, 0, 0, 0, 0, 0, 0, 0, 0, 0, 0, 0, 0, 0, 0, 0, 0, 1, 1, 1,\n",
            "       0, 0, 0, 0, 0, 0, 0, 0, 0, 0, 0, 0, 0, 0, 0, 1, 0, 0, 0, 0, 0, 0,\n",
            "       0, 0, 1, 0, 1, 1, 1, 1, 1, 0, 0, 1, 0, 0, 1, 1, 1, 1, 0, 1, 0, 0,\n",
            "       1, 1, 1, 1, 0, 1, 0, 0, 1, 0, 1, 0, 0, 1, 1, 1, 0, 0, 1, 0, 0, 0,\n",
            "       1, 1, 1, 0, 1, 1, 0, 0, 1, 1, 1, 0, 0, 1, 1, 1, 1, 0, 1, 1, 0, 1,\n",
            "       1, 1, 1, 1, 1, 1, 1, 0, 0, 0, 1, 0, 0, 1, 1, 1, 0, 0, 1, 0, 1, 0,\n",
            "       0, 1, 0, 0, 1, 1, 0, 1, 1, 0, 1, 1, 1, 1, 0, 1, 1, 1, 1, 1, 1, 1,\n",
            "       1, 1, 0, 1, 1, 1, 1, 0, 0, 1, 0, 1, 1, 0, 0, 1, 1, 0, 0, 1, 1, 1,\n",
            "       1, 0, 1, 1, 0, 0, 0, 1, 0, 1, 0, 1, 1, 1, 0, 1, 1, 0, 0, 1, 0, 0,\n",
            "       0, 0, 1, 0, 0, 0, 1, 0, 1, 0, 1, 1, 0, 1, 0, 0, 0, 0, 1, 1, 0, 0,\n",
            "       1, 1, 1, 0, 1, 1, 1, 1, 1, 0, 0, 1, 1, 0, 1, 1, 0, 0, 1, 0, 1, 1,\n",
            "       1, 1, 0, 1, 1, 1, 1, 1, 0, 1, 0, 0, 0, 0, 0, 0, 0, 0, 0, 0, 0, 0,\n",
            "       0, 0, 1, 1, 1, 1, 1, 1, 0, 1, 0, 1, 1, 0, 1, 1, 0, 1, 0, 0, 1, 1,\n",
            "       1, 1, 1, 1, 1, 1, 1, 1, 1, 1, 1, 0, 1, 1, 0, 1, 0, 1, 1, 1, 1, 1,\n",
            "       1, 1, 1, 1, 1, 1, 1, 1, 1, 0, 1, 1, 1, 0, 1, 0, 1, 1, 1, 1, 0, 0,\n",
            "       0, 1, 1, 1, 1, 0, 1, 0, 1, 0, 1, 1, 1, 0, 1, 1, 1, 1, 1, 1, 1, 0,\n",
            "       0, 0, 1, 1, 1, 1, 1, 1, 1, 1, 1, 1, 1, 0, 0, 1, 0, 0, 0, 1, 0, 0,\n",
            "       1, 1, 1, 1, 1, 0, 1, 1, 1, 1, 1, 0, 1, 1, 1, 0, 1, 1, 0, 0, 1, 1,\n",
            "       1, 1, 1, 1, 0, 1, 1, 1, 1, 1, 1, 1, 0, 1, 1, 1, 1, 1, 0, 1, 1, 0,\n",
            "       1, 1, 1, 1, 1, 1, 1, 1, 1, 1, 1, 1, 0, 1, 0, 0, 1, 0, 1, 1, 1, 1,\n",
            "       1, 0, 1, 1, 0, 1, 0, 1, 1, 0, 1, 0, 1, 1, 1, 1, 1, 1, 1, 1, 0, 0,\n",
            "       1, 1, 1, 1, 1, 1, 0, 1, 1, 1, 1, 1, 1, 1, 1, 1, 1, 0, 1, 1, 1, 1,\n",
            "       1, 1, 1, 0, 1, 0, 1, 1, 0, 1, 1, 1, 1, 1, 0, 0, 1, 0, 1, 0, 1, 1,\n",
            "       1, 1, 1, 0, 1, 1, 0, 1, 0, 1, 0, 0, 1, 1, 1, 0, 1, 1, 1, 1, 1, 1,\n",
            "       1, 1, 1, 1, 1, 0, 1, 0, 0, 1, 1, 1, 1, 1, 1, 1, 1, 1, 1, 1, 1, 1,\n",
            "       1, 1, 1, 1, 1, 1, 1, 1, 1, 1, 1, 1, 0, 0, 0, 0, 0, 0, 1]), 'frame': None, 'target_names': array(['malignant', 'benign'], dtype='<U9'), 'DESCR': '.. _breast_cancer_dataset:\\n\\nBreast cancer wisconsin (diagnostic) dataset\\n--------------------------------------------\\n\\n**Data Set Characteristics:**\\n\\n:Number of Instances: 569\\n\\n:Number of Attributes: 30 numeric, predictive attributes and the class\\n\\n:Attribute Information:\\n    - radius (mean of distances from center to points on the perimeter)\\n    - texture (standard deviation of gray-scale values)\\n    - perimeter\\n    - area\\n    - smoothness (local variation in radius lengths)\\n    - compactness (perimeter^2 / area - 1.0)\\n    - concavity (severity of concave portions of the contour)\\n    - concave points (number of concave portions of the contour)\\n    - symmetry\\n    - fractal dimension (\"coastline approximation\" - 1)\\n\\n    The mean, standard error, and \"worst\" or largest (mean of the three\\n    worst/largest values) of these features were computed for each image,\\n    resulting in 30 features.  For instance, field 0 is Mean Radius, field\\n    10 is Radius SE, field 20 is Worst Radius.\\n\\n    - class:\\n            - WDBC-Malignant\\n            - WDBC-Benign\\n\\n:Summary Statistics:\\n\\n===================================== ====== ======\\n                                        Min    Max\\n===================================== ====== ======\\nradius (mean):                        6.981  28.11\\ntexture (mean):                       9.71   39.28\\nperimeter (mean):                     43.79  188.5\\narea (mean):                          143.5  2501.0\\nsmoothness (mean):                    0.053  0.163\\ncompactness (mean):                   0.019  0.345\\nconcavity (mean):                     0.0    0.427\\nconcave points (mean):                0.0    0.201\\nsymmetry (mean):                      0.106  0.304\\nfractal dimension (mean):             0.05   0.097\\nradius (standard error):              0.112  2.873\\ntexture (standard error):             0.36   4.885\\nperimeter (standard error):           0.757  21.98\\narea (standard error):                6.802  542.2\\nsmoothness (standard error):          0.002  0.031\\ncompactness (standard error):         0.002  0.135\\nconcavity (standard error):           0.0    0.396\\nconcave points (standard error):      0.0    0.053\\nsymmetry (standard error):            0.008  0.079\\nfractal dimension (standard error):   0.001  0.03\\nradius (worst):                       7.93   36.04\\ntexture (worst):                      12.02  49.54\\nperimeter (worst):                    50.41  251.2\\narea (worst):                         185.2  4254.0\\nsmoothness (worst):                   0.071  0.223\\ncompactness (worst):                  0.027  1.058\\nconcavity (worst):                    0.0    1.252\\nconcave points (worst):               0.0    0.291\\nsymmetry (worst):                     0.156  0.664\\nfractal dimension (worst):            0.055  0.208\\n===================================== ====== ======\\n\\n:Missing Attribute Values: None\\n\\n:Class Distribution: 212 - Malignant, 357 - Benign\\n\\n:Creator:  Dr. William H. Wolberg, W. Nick Street, Olvi L. Mangasarian\\n\\n:Donor: Nick Street\\n\\n:Date: November, 1995\\n\\nThis is a copy of UCI ML Breast Cancer Wisconsin (Diagnostic) datasets.\\nhttps://goo.gl/U2Uwz2\\n\\nFeatures are computed from a digitized image of a fine needle\\naspirate (FNA) of a breast mass.  They describe\\ncharacteristics of the cell nuclei present in the image.\\n\\nSeparating plane described above was obtained using\\nMultisurface Method-Tree (MSM-T) [K. P. Bennett, \"Decision Tree\\nConstruction Via Linear Programming.\" Proceedings of the 4th\\nMidwest Artificial Intelligence and Cognitive Science Society,\\npp. 97-101, 1992], a classification method which uses linear\\nprogramming to construct a decision tree.  Relevant features\\nwere selected using an exhaustive search in the space of 1-4\\nfeatures and 1-3 separating planes.\\n\\nThe actual linear program used to obtain the separating plane\\nin the 3-dimensional space is that described in:\\n[K. P. Bennett and O. L. Mangasarian: \"Robust Linear\\nProgramming Discrimination of Two Linearly Inseparable Sets\",\\nOptimization Methods and Software 1, 1992, 23-34].\\n\\nThis database is also available through the UW CS ftp server:\\n\\nftp ftp.cs.wisc.edu\\ncd math-prog/cpo-dataset/machine-learn/WDBC/\\n\\n|details-start|\\n**References**\\n|details-split|\\n\\n- W.N. Street, W.H. Wolberg and O.L. Mangasarian. Nuclear feature extraction\\n  for breast tumor diagnosis. IS&T/SPIE 1993 International Symposium on\\n  Electronic Imaging: Science and Technology, volume 1905, pages 861-870,\\n  San Jose, CA, 1993.\\n- O.L. Mangasarian, W.N. Street and W.H. Wolberg. Breast cancer diagnosis and\\n  prognosis via linear programming. Operations Research, 43(4), pages 570-577,\\n  July-August 1995.\\n- W.H. Wolberg, W.N. Street, and O.L. Mangasarian. Machine learning techniques\\n  to diagnose breast cancer from fine-needle aspirates. Cancer Letters 77 (1994)\\n  163-171.\\n\\n|details-end|\\n', 'feature_names': array(['mean radius', 'mean texture', 'mean perimeter', 'mean area',\n",
            "       'mean smoothness', 'mean compactness', 'mean concavity',\n",
            "       'mean concave points', 'mean symmetry', 'mean fractal dimension',\n",
            "       'radius error', 'texture error', 'perimeter error', 'area error',\n",
            "       'smoothness error', 'compactness error', 'concavity error',\n",
            "       'concave points error', 'symmetry error',\n",
            "       'fractal dimension error', 'worst radius', 'worst texture',\n",
            "       'worst perimeter', 'worst area', 'worst smoothness',\n",
            "       'worst compactness', 'worst concavity', 'worst concave points',\n",
            "       'worst symmetry', 'worst fractal dimension'], dtype='<U23'), 'filename': 'breast_cancer.csv', 'data_module': 'sklearn.datasets.data'}\n"
          ]
        }
      ],
      "source": [
        "print(breast_cancer_dataset)"
      ]
    },
    {
      "cell_type": "code",
      "execution_count": 4,
      "metadata": {
        "id": "yFamhVTThMdK"
      },
      "outputs": [],
      "source": [
        "# loading the data to a data frame\n",
        "data_frame = pd.DataFrame(breast_cancer_dataset.data, columns = breast_cancer_dataset.feature_names)"
      ]
    },
    {
      "cell_type": "code",
      "execution_count": 5,
      "metadata": {
        "colab": {
          "base_uri": "https://localhost:8080/",
          "height": 334
        },
        "id": "xLiv1maYiGVH",
        "outputId": "64978de8-5903-4c69-c5e2-134ebeff769c"
      },
      "outputs": [
        {
          "data": {
            "text/html": [
              "<div>\n",
              "<style scoped>\n",
              "    .dataframe tbody tr th:only-of-type {\n",
              "        vertical-align: middle;\n",
              "    }\n",
              "\n",
              "    .dataframe tbody tr th {\n",
              "        vertical-align: top;\n",
              "    }\n",
              "\n",
              "    .dataframe thead th {\n",
              "        text-align: right;\n",
              "    }\n",
              "</style>\n",
              "<table border=\"1\" class=\"dataframe\">\n",
              "  <thead>\n",
              "    <tr style=\"text-align: right;\">\n",
              "      <th></th>\n",
              "      <th>mean radius</th>\n",
              "      <th>mean texture</th>\n",
              "      <th>mean perimeter</th>\n",
              "      <th>mean area</th>\n",
              "      <th>mean smoothness</th>\n",
              "      <th>mean compactness</th>\n",
              "      <th>mean concavity</th>\n",
              "      <th>mean concave points</th>\n",
              "      <th>mean symmetry</th>\n",
              "      <th>mean fractal dimension</th>\n",
              "      <th>...</th>\n",
              "      <th>worst radius</th>\n",
              "      <th>worst texture</th>\n",
              "      <th>worst perimeter</th>\n",
              "      <th>worst area</th>\n",
              "      <th>worst smoothness</th>\n",
              "      <th>worst compactness</th>\n",
              "      <th>worst concavity</th>\n",
              "      <th>worst concave points</th>\n",
              "      <th>worst symmetry</th>\n",
              "      <th>worst fractal dimension</th>\n",
              "    </tr>\n",
              "  </thead>\n",
              "  <tbody>\n",
              "    <tr>\n",
              "      <th>0</th>\n",
              "      <td>17.99</td>\n",
              "      <td>10.38</td>\n",
              "      <td>122.80</td>\n",
              "      <td>1001.0</td>\n",
              "      <td>0.11840</td>\n",
              "      <td>0.27760</td>\n",
              "      <td>0.3001</td>\n",
              "      <td>0.14710</td>\n",
              "      <td>0.2419</td>\n",
              "      <td>0.07871</td>\n",
              "      <td>...</td>\n",
              "      <td>25.38</td>\n",
              "      <td>17.33</td>\n",
              "      <td>184.60</td>\n",
              "      <td>2019.0</td>\n",
              "      <td>0.1622</td>\n",
              "      <td>0.6656</td>\n",
              "      <td>0.7119</td>\n",
              "      <td>0.2654</td>\n",
              "      <td>0.4601</td>\n",
              "      <td>0.11890</td>\n",
              "    </tr>\n",
              "    <tr>\n",
              "      <th>1</th>\n",
              "      <td>20.57</td>\n",
              "      <td>17.77</td>\n",
              "      <td>132.90</td>\n",
              "      <td>1326.0</td>\n",
              "      <td>0.08474</td>\n",
              "      <td>0.07864</td>\n",
              "      <td>0.0869</td>\n",
              "      <td>0.07017</td>\n",
              "      <td>0.1812</td>\n",
              "      <td>0.05667</td>\n",
              "      <td>...</td>\n",
              "      <td>24.99</td>\n",
              "      <td>23.41</td>\n",
              "      <td>158.80</td>\n",
              "      <td>1956.0</td>\n",
              "      <td>0.1238</td>\n",
              "      <td>0.1866</td>\n",
              "      <td>0.2416</td>\n",
              "      <td>0.1860</td>\n",
              "      <td>0.2750</td>\n",
              "      <td>0.08902</td>\n",
              "    </tr>\n",
              "    <tr>\n",
              "      <th>2</th>\n",
              "      <td>19.69</td>\n",
              "      <td>21.25</td>\n",
              "      <td>130.00</td>\n",
              "      <td>1203.0</td>\n",
              "      <td>0.10960</td>\n",
              "      <td>0.15990</td>\n",
              "      <td>0.1974</td>\n",
              "      <td>0.12790</td>\n",
              "      <td>0.2069</td>\n",
              "      <td>0.05999</td>\n",
              "      <td>...</td>\n",
              "      <td>23.57</td>\n",
              "      <td>25.53</td>\n",
              "      <td>152.50</td>\n",
              "      <td>1709.0</td>\n",
              "      <td>0.1444</td>\n",
              "      <td>0.4245</td>\n",
              "      <td>0.4504</td>\n",
              "      <td>0.2430</td>\n",
              "      <td>0.3613</td>\n",
              "      <td>0.08758</td>\n",
              "    </tr>\n",
              "    <tr>\n",
              "      <th>3</th>\n",
              "      <td>11.42</td>\n",
              "      <td>20.38</td>\n",
              "      <td>77.58</td>\n",
              "      <td>386.1</td>\n",
              "      <td>0.14250</td>\n",
              "      <td>0.28390</td>\n",
              "      <td>0.2414</td>\n",
              "      <td>0.10520</td>\n",
              "      <td>0.2597</td>\n",
              "      <td>0.09744</td>\n",
              "      <td>...</td>\n",
              "      <td>14.91</td>\n",
              "      <td>26.50</td>\n",
              "      <td>98.87</td>\n",
              "      <td>567.7</td>\n",
              "      <td>0.2098</td>\n",
              "      <td>0.8663</td>\n",
              "      <td>0.6869</td>\n",
              "      <td>0.2575</td>\n",
              "      <td>0.6638</td>\n",
              "      <td>0.17300</td>\n",
              "    </tr>\n",
              "    <tr>\n",
              "      <th>4</th>\n",
              "      <td>20.29</td>\n",
              "      <td>14.34</td>\n",
              "      <td>135.10</td>\n",
              "      <td>1297.0</td>\n",
              "      <td>0.10030</td>\n",
              "      <td>0.13280</td>\n",
              "      <td>0.1980</td>\n",
              "      <td>0.10430</td>\n",
              "      <td>0.1809</td>\n",
              "      <td>0.05883</td>\n",
              "      <td>...</td>\n",
              "      <td>22.54</td>\n",
              "      <td>16.67</td>\n",
              "      <td>152.20</td>\n",
              "      <td>1575.0</td>\n",
              "      <td>0.1374</td>\n",
              "      <td>0.2050</td>\n",
              "      <td>0.4000</td>\n",
              "      <td>0.1625</td>\n",
              "      <td>0.2364</td>\n",
              "      <td>0.07678</td>\n",
              "    </tr>\n",
              "  </tbody>\n",
              "</table>\n",
              "<p>5 rows × 30 columns</p>\n",
              "</div>"
            ],
            "text/plain": [
              "   mean radius  mean texture  mean perimeter  mean area  mean smoothness  \\\n",
              "0        17.99         10.38          122.80     1001.0          0.11840   \n",
              "1        20.57         17.77          132.90     1326.0          0.08474   \n",
              "2        19.69         21.25          130.00     1203.0          0.10960   \n",
              "3        11.42         20.38           77.58      386.1          0.14250   \n",
              "4        20.29         14.34          135.10     1297.0          0.10030   \n",
              "\n",
              "   mean compactness  mean concavity  mean concave points  mean symmetry  \\\n",
              "0           0.27760          0.3001              0.14710         0.2419   \n",
              "1           0.07864          0.0869              0.07017         0.1812   \n",
              "2           0.15990          0.1974              0.12790         0.2069   \n",
              "3           0.28390          0.2414              0.10520         0.2597   \n",
              "4           0.13280          0.1980              0.10430         0.1809   \n",
              "\n",
              "   mean fractal dimension  ...  worst radius  worst texture  worst perimeter  \\\n",
              "0                 0.07871  ...         25.38          17.33           184.60   \n",
              "1                 0.05667  ...         24.99          23.41           158.80   \n",
              "2                 0.05999  ...         23.57          25.53           152.50   \n",
              "3                 0.09744  ...         14.91          26.50            98.87   \n",
              "4                 0.05883  ...         22.54          16.67           152.20   \n",
              "\n",
              "   worst area  worst smoothness  worst compactness  worst concavity  \\\n",
              "0      2019.0            0.1622             0.6656           0.7119   \n",
              "1      1956.0            0.1238             0.1866           0.2416   \n",
              "2      1709.0            0.1444             0.4245           0.4504   \n",
              "3       567.7            0.2098             0.8663           0.6869   \n",
              "4      1575.0            0.1374             0.2050           0.4000   \n",
              "\n",
              "   worst concave points  worst symmetry  worst fractal dimension  \n",
              "0                0.2654          0.4601                  0.11890  \n",
              "1                0.1860          0.2750                  0.08902  \n",
              "2                0.2430          0.3613                  0.08758  \n",
              "3                0.2575          0.6638                  0.17300  \n",
              "4                0.1625          0.2364                  0.07678  \n",
              "\n",
              "[5 rows x 30 columns]"
            ]
          },
          "execution_count": 5,
          "metadata": {},
          "output_type": "execute_result"
        }
      ],
      "source": [
        "# print the first 5 rows of the dataframe\n",
        "data_frame.head()"
      ]
    },
    {
      "cell_type": "code",
      "execution_count": 6,
      "metadata": {
        "id": "UEvD_aTDiNLF"
      },
      "outputs": [],
      "source": [
        "data_frame['label'] = breast_cancer_dataset.target"
      ]
    },
    {
      "cell_type": "code",
      "execution_count": 7,
      "metadata": {
        "colab": {
          "base_uri": "https://localhost:8080/",
          "height": 334
        },
        "id": "f_kmjEA5io2v",
        "outputId": "97057e6b-3e65-483c-83da-014259da2c5d"
      },
      "outputs": [
        {
          "data": {
            "text/html": [
              "<div>\n",
              "<style scoped>\n",
              "    .dataframe tbody tr th:only-of-type {\n",
              "        vertical-align: middle;\n",
              "    }\n",
              "\n",
              "    .dataframe tbody tr th {\n",
              "        vertical-align: top;\n",
              "    }\n",
              "\n",
              "    .dataframe thead th {\n",
              "        text-align: right;\n",
              "    }\n",
              "</style>\n",
              "<table border=\"1\" class=\"dataframe\">\n",
              "  <thead>\n",
              "    <tr style=\"text-align: right;\">\n",
              "      <th></th>\n",
              "      <th>mean radius</th>\n",
              "      <th>mean texture</th>\n",
              "      <th>mean perimeter</th>\n",
              "      <th>mean area</th>\n",
              "      <th>mean smoothness</th>\n",
              "      <th>mean compactness</th>\n",
              "      <th>mean concavity</th>\n",
              "      <th>mean concave points</th>\n",
              "      <th>mean symmetry</th>\n",
              "      <th>mean fractal dimension</th>\n",
              "      <th>...</th>\n",
              "      <th>worst texture</th>\n",
              "      <th>worst perimeter</th>\n",
              "      <th>worst area</th>\n",
              "      <th>worst smoothness</th>\n",
              "      <th>worst compactness</th>\n",
              "      <th>worst concavity</th>\n",
              "      <th>worst concave points</th>\n",
              "      <th>worst symmetry</th>\n",
              "      <th>worst fractal dimension</th>\n",
              "      <th>label</th>\n",
              "    </tr>\n",
              "  </thead>\n",
              "  <tbody>\n",
              "    <tr>\n",
              "      <th>564</th>\n",
              "      <td>21.56</td>\n",
              "      <td>22.39</td>\n",
              "      <td>142.00</td>\n",
              "      <td>1479.0</td>\n",
              "      <td>0.11100</td>\n",
              "      <td>0.11590</td>\n",
              "      <td>0.24390</td>\n",
              "      <td>0.13890</td>\n",
              "      <td>0.1726</td>\n",
              "      <td>0.05623</td>\n",
              "      <td>...</td>\n",
              "      <td>26.40</td>\n",
              "      <td>166.10</td>\n",
              "      <td>2027.0</td>\n",
              "      <td>0.14100</td>\n",
              "      <td>0.21130</td>\n",
              "      <td>0.4107</td>\n",
              "      <td>0.2216</td>\n",
              "      <td>0.2060</td>\n",
              "      <td>0.07115</td>\n",
              "      <td>0</td>\n",
              "    </tr>\n",
              "    <tr>\n",
              "      <th>565</th>\n",
              "      <td>20.13</td>\n",
              "      <td>28.25</td>\n",
              "      <td>131.20</td>\n",
              "      <td>1261.0</td>\n",
              "      <td>0.09780</td>\n",
              "      <td>0.10340</td>\n",
              "      <td>0.14400</td>\n",
              "      <td>0.09791</td>\n",
              "      <td>0.1752</td>\n",
              "      <td>0.05533</td>\n",
              "      <td>...</td>\n",
              "      <td>38.25</td>\n",
              "      <td>155.00</td>\n",
              "      <td>1731.0</td>\n",
              "      <td>0.11660</td>\n",
              "      <td>0.19220</td>\n",
              "      <td>0.3215</td>\n",
              "      <td>0.1628</td>\n",
              "      <td>0.2572</td>\n",
              "      <td>0.06637</td>\n",
              "      <td>0</td>\n",
              "    </tr>\n",
              "    <tr>\n",
              "      <th>566</th>\n",
              "      <td>16.60</td>\n",
              "      <td>28.08</td>\n",
              "      <td>108.30</td>\n",
              "      <td>858.1</td>\n",
              "      <td>0.08455</td>\n",
              "      <td>0.10230</td>\n",
              "      <td>0.09251</td>\n",
              "      <td>0.05302</td>\n",
              "      <td>0.1590</td>\n",
              "      <td>0.05648</td>\n",
              "      <td>...</td>\n",
              "      <td>34.12</td>\n",
              "      <td>126.70</td>\n",
              "      <td>1124.0</td>\n",
              "      <td>0.11390</td>\n",
              "      <td>0.30940</td>\n",
              "      <td>0.3403</td>\n",
              "      <td>0.1418</td>\n",
              "      <td>0.2218</td>\n",
              "      <td>0.07820</td>\n",
              "      <td>0</td>\n",
              "    </tr>\n",
              "    <tr>\n",
              "      <th>567</th>\n",
              "      <td>20.60</td>\n",
              "      <td>29.33</td>\n",
              "      <td>140.10</td>\n",
              "      <td>1265.0</td>\n",
              "      <td>0.11780</td>\n",
              "      <td>0.27700</td>\n",
              "      <td>0.35140</td>\n",
              "      <td>0.15200</td>\n",
              "      <td>0.2397</td>\n",
              "      <td>0.07016</td>\n",
              "      <td>...</td>\n",
              "      <td>39.42</td>\n",
              "      <td>184.60</td>\n",
              "      <td>1821.0</td>\n",
              "      <td>0.16500</td>\n",
              "      <td>0.86810</td>\n",
              "      <td>0.9387</td>\n",
              "      <td>0.2650</td>\n",
              "      <td>0.4087</td>\n",
              "      <td>0.12400</td>\n",
              "      <td>0</td>\n",
              "    </tr>\n",
              "    <tr>\n",
              "      <th>568</th>\n",
              "      <td>7.76</td>\n",
              "      <td>24.54</td>\n",
              "      <td>47.92</td>\n",
              "      <td>181.0</td>\n",
              "      <td>0.05263</td>\n",
              "      <td>0.04362</td>\n",
              "      <td>0.00000</td>\n",
              "      <td>0.00000</td>\n",
              "      <td>0.1587</td>\n",
              "      <td>0.05884</td>\n",
              "      <td>...</td>\n",
              "      <td>30.37</td>\n",
              "      <td>59.16</td>\n",
              "      <td>268.6</td>\n",
              "      <td>0.08996</td>\n",
              "      <td>0.06444</td>\n",
              "      <td>0.0000</td>\n",
              "      <td>0.0000</td>\n",
              "      <td>0.2871</td>\n",
              "      <td>0.07039</td>\n",
              "      <td>1</td>\n",
              "    </tr>\n",
              "  </tbody>\n",
              "</table>\n",
              "<p>5 rows × 31 columns</p>\n",
              "</div>"
            ],
            "text/plain": [
              "     mean radius  mean texture  mean perimeter  mean area  mean smoothness  \\\n",
              "564        21.56         22.39          142.00     1479.0          0.11100   \n",
              "565        20.13         28.25          131.20     1261.0          0.09780   \n",
              "566        16.60         28.08          108.30      858.1          0.08455   \n",
              "567        20.60         29.33          140.10     1265.0          0.11780   \n",
              "568         7.76         24.54           47.92      181.0          0.05263   \n",
              "\n",
              "     mean compactness  mean concavity  mean concave points  mean symmetry  \\\n",
              "564           0.11590         0.24390              0.13890         0.1726   \n",
              "565           0.10340         0.14400              0.09791         0.1752   \n",
              "566           0.10230         0.09251              0.05302         0.1590   \n",
              "567           0.27700         0.35140              0.15200         0.2397   \n",
              "568           0.04362         0.00000              0.00000         0.1587   \n",
              "\n",
              "     mean fractal dimension  ...  worst texture  worst perimeter  worst area  \\\n",
              "564                 0.05623  ...          26.40           166.10      2027.0   \n",
              "565                 0.05533  ...          38.25           155.00      1731.0   \n",
              "566                 0.05648  ...          34.12           126.70      1124.0   \n",
              "567                 0.07016  ...          39.42           184.60      1821.0   \n",
              "568                 0.05884  ...          30.37            59.16       268.6   \n",
              "\n",
              "     worst smoothness  worst compactness  worst concavity  \\\n",
              "564           0.14100            0.21130           0.4107   \n",
              "565           0.11660            0.19220           0.3215   \n",
              "566           0.11390            0.30940           0.3403   \n",
              "567           0.16500            0.86810           0.9387   \n",
              "568           0.08996            0.06444           0.0000   \n",
              "\n",
              "     worst concave points  worst symmetry  worst fractal dimension  label  \n",
              "564                0.2216          0.2060                  0.07115      0  \n",
              "565                0.1628          0.2572                  0.06637      0  \n",
              "566                0.1418          0.2218                  0.07820      0  \n",
              "567                0.2650          0.4087                  0.12400      0  \n",
              "568                0.0000          0.2871                  0.07039      1  \n",
              "\n",
              "[5 rows x 31 columns]"
            ]
          },
          "execution_count": 7,
          "metadata": {},
          "output_type": "execute_result"
        }
      ],
      "source": [
        "data_frame.tail()"
      ]
    },
    {
      "cell_type": "code",
      "execution_count": 8,
      "metadata": {
        "colab": {
          "base_uri": "https://localhost:8080/"
        },
        "id": "sw3wjdK6iwK4",
        "outputId": "7958f26e-d774-4afd-ecb0-786bd4fa35d0"
      },
      "outputs": [
        {
          "data": {
            "text/plain": [
              "(569, 31)"
            ]
          },
          "execution_count": 8,
          "metadata": {},
          "output_type": "execute_result"
        }
      ],
      "source": [
        "data_frame.shape"
      ]
    },
    {
      "cell_type": "code",
      "execution_count": 9,
      "metadata": {
        "colab": {
          "base_uri": "https://localhost:8080/"
        },
        "id": "AWOjMuyBi77M",
        "outputId": "331edb2d-1dd9-40bd-87d2-1adace00be06"
      },
      "outputs": [
        {
          "name": "stdout",
          "output_type": "stream",
          "text": [
            "<class 'pandas.core.frame.DataFrame'>\n",
            "RangeIndex: 569 entries, 0 to 568\n",
            "Data columns (total 31 columns):\n",
            " #   Column                   Non-Null Count  Dtype  \n",
            "---  ------                   --------------  -----  \n",
            " 0   mean radius              569 non-null    float64\n",
            " 1   mean texture             569 non-null    float64\n",
            " 2   mean perimeter           569 non-null    float64\n",
            " 3   mean area                569 non-null    float64\n",
            " 4   mean smoothness          569 non-null    float64\n",
            " 5   mean compactness         569 non-null    float64\n",
            " 6   mean concavity           569 non-null    float64\n",
            " 7   mean concave points      569 non-null    float64\n",
            " 8   mean symmetry            569 non-null    float64\n",
            " 9   mean fractal dimension   569 non-null    float64\n",
            " 10  radius error             569 non-null    float64\n",
            " 11  texture error            569 non-null    float64\n",
            " 12  perimeter error          569 non-null    float64\n",
            " 13  area error               569 non-null    float64\n",
            " 14  smoothness error         569 non-null    float64\n",
            " 15  compactness error        569 non-null    float64\n",
            " 16  concavity error          569 non-null    float64\n",
            " 17  concave points error     569 non-null    float64\n",
            " 18  symmetry error           569 non-null    float64\n",
            " 19  fractal dimension error  569 non-null    float64\n",
            " 20  worst radius             569 non-null    float64\n",
            " 21  worst texture            569 non-null    float64\n",
            " 22  worst perimeter          569 non-null    float64\n",
            " 23  worst area               569 non-null    float64\n",
            " 24  worst smoothness         569 non-null    float64\n",
            " 25  worst compactness        569 non-null    float64\n",
            " 26  worst concavity          569 non-null    float64\n",
            " 27  worst concave points     569 non-null    float64\n",
            " 28  worst symmetry           569 non-null    float64\n",
            " 29  worst fractal dimension  569 non-null    float64\n",
            " 30  label                    569 non-null    int32  \n",
            "dtypes: float64(30), int32(1)\n",
            "memory usage: 135.7 KB\n"
          ]
        }
      ],
      "source": [
        "data_frame.info()"
      ]
    },
    {
      "cell_type": "code",
      "execution_count": 10,
      "metadata": {
        "colab": {
          "base_uri": "https://localhost:8080/"
        },
        "id": "RuoVIUTYjLpk",
        "outputId": "af6c56a0-c899-4fb3-e974-f8eff23ad720"
      },
      "outputs": [
        {
          "data": {
            "text/plain": [
              "mean radius                0\n",
              "mean texture               0\n",
              "mean perimeter             0\n",
              "mean area                  0\n",
              "mean smoothness            0\n",
              "mean compactness           0\n",
              "mean concavity             0\n",
              "mean concave points        0\n",
              "mean symmetry              0\n",
              "mean fractal dimension     0\n",
              "radius error               0\n",
              "texture error              0\n",
              "perimeter error            0\n",
              "area error                 0\n",
              "smoothness error           0\n",
              "compactness error          0\n",
              "concavity error            0\n",
              "concave points error       0\n",
              "symmetry error             0\n",
              "fractal dimension error    0\n",
              "worst radius               0\n",
              "worst texture              0\n",
              "worst perimeter            0\n",
              "worst area                 0\n",
              "worst smoothness           0\n",
              "worst compactness          0\n",
              "worst concavity            0\n",
              "worst concave points       0\n",
              "worst symmetry             0\n",
              "worst fractal dimension    0\n",
              "label                      0\n",
              "dtype: int64"
            ]
          },
          "execution_count": 10,
          "metadata": {},
          "output_type": "execute_result"
        }
      ],
      "source": [
        "data_frame.isnull().sum()"
      ]
    },
    {
      "cell_type": "code",
      "execution_count": 11,
      "metadata": {
        "colab": {
          "base_uri": "https://localhost:8080/",
          "height": 428
        },
        "id": "oLMuXI33jlkq",
        "outputId": "7f7030d3-7869-40dc-e56d-e7e9fb568971"
      },
      "outputs": [
        {
          "data": {
            "text/html": [
              "<div>\n",
              "<style scoped>\n",
              "    .dataframe tbody tr th:only-of-type {\n",
              "        vertical-align: middle;\n",
              "    }\n",
              "\n",
              "    .dataframe tbody tr th {\n",
              "        vertical-align: top;\n",
              "    }\n",
              "\n",
              "    .dataframe thead th {\n",
              "        text-align: right;\n",
              "    }\n",
              "</style>\n",
              "<table border=\"1\" class=\"dataframe\">\n",
              "  <thead>\n",
              "    <tr style=\"text-align: right;\">\n",
              "      <th></th>\n",
              "      <th>mean radius</th>\n",
              "      <th>mean texture</th>\n",
              "      <th>mean perimeter</th>\n",
              "      <th>mean area</th>\n",
              "      <th>mean smoothness</th>\n",
              "      <th>mean compactness</th>\n",
              "      <th>mean concavity</th>\n",
              "      <th>mean concave points</th>\n",
              "      <th>mean symmetry</th>\n",
              "      <th>mean fractal dimension</th>\n",
              "      <th>...</th>\n",
              "      <th>worst texture</th>\n",
              "      <th>worst perimeter</th>\n",
              "      <th>worst area</th>\n",
              "      <th>worst smoothness</th>\n",
              "      <th>worst compactness</th>\n",
              "      <th>worst concavity</th>\n",
              "      <th>worst concave points</th>\n",
              "      <th>worst symmetry</th>\n",
              "      <th>worst fractal dimension</th>\n",
              "      <th>label</th>\n",
              "    </tr>\n",
              "  </thead>\n",
              "  <tbody>\n",
              "    <tr>\n",
              "      <th>count</th>\n",
              "      <td>569.000000</td>\n",
              "      <td>569.000000</td>\n",
              "      <td>569.000000</td>\n",
              "      <td>569.000000</td>\n",
              "      <td>569.000000</td>\n",
              "      <td>569.000000</td>\n",
              "      <td>569.000000</td>\n",
              "      <td>569.000000</td>\n",
              "      <td>569.000000</td>\n",
              "      <td>569.000000</td>\n",
              "      <td>...</td>\n",
              "      <td>569.000000</td>\n",
              "      <td>569.000000</td>\n",
              "      <td>569.000000</td>\n",
              "      <td>569.000000</td>\n",
              "      <td>569.000000</td>\n",
              "      <td>569.000000</td>\n",
              "      <td>569.000000</td>\n",
              "      <td>569.000000</td>\n",
              "      <td>569.000000</td>\n",
              "      <td>569.000000</td>\n",
              "    </tr>\n",
              "    <tr>\n",
              "      <th>mean</th>\n",
              "      <td>14.127292</td>\n",
              "      <td>19.289649</td>\n",
              "      <td>91.969033</td>\n",
              "      <td>654.889104</td>\n",
              "      <td>0.096360</td>\n",
              "      <td>0.104341</td>\n",
              "      <td>0.088799</td>\n",
              "      <td>0.048919</td>\n",
              "      <td>0.181162</td>\n",
              "      <td>0.062798</td>\n",
              "      <td>...</td>\n",
              "      <td>25.677223</td>\n",
              "      <td>107.261213</td>\n",
              "      <td>880.583128</td>\n",
              "      <td>0.132369</td>\n",
              "      <td>0.254265</td>\n",
              "      <td>0.272188</td>\n",
              "      <td>0.114606</td>\n",
              "      <td>0.290076</td>\n",
              "      <td>0.083946</td>\n",
              "      <td>0.627417</td>\n",
              "    </tr>\n",
              "    <tr>\n",
              "      <th>std</th>\n",
              "      <td>3.524049</td>\n",
              "      <td>4.301036</td>\n",
              "      <td>24.298981</td>\n",
              "      <td>351.914129</td>\n",
              "      <td>0.014064</td>\n",
              "      <td>0.052813</td>\n",
              "      <td>0.079720</td>\n",
              "      <td>0.038803</td>\n",
              "      <td>0.027414</td>\n",
              "      <td>0.007060</td>\n",
              "      <td>...</td>\n",
              "      <td>6.146258</td>\n",
              "      <td>33.602542</td>\n",
              "      <td>569.356993</td>\n",
              "      <td>0.022832</td>\n",
              "      <td>0.157336</td>\n",
              "      <td>0.208624</td>\n",
              "      <td>0.065732</td>\n",
              "      <td>0.061867</td>\n",
              "      <td>0.018061</td>\n",
              "      <td>0.483918</td>\n",
              "    </tr>\n",
              "    <tr>\n",
              "      <th>min</th>\n",
              "      <td>6.981000</td>\n",
              "      <td>9.710000</td>\n",
              "      <td>43.790000</td>\n",
              "      <td>143.500000</td>\n",
              "      <td>0.052630</td>\n",
              "      <td>0.019380</td>\n",
              "      <td>0.000000</td>\n",
              "      <td>0.000000</td>\n",
              "      <td>0.106000</td>\n",
              "      <td>0.049960</td>\n",
              "      <td>...</td>\n",
              "      <td>12.020000</td>\n",
              "      <td>50.410000</td>\n",
              "      <td>185.200000</td>\n",
              "      <td>0.071170</td>\n",
              "      <td>0.027290</td>\n",
              "      <td>0.000000</td>\n",
              "      <td>0.000000</td>\n",
              "      <td>0.156500</td>\n",
              "      <td>0.055040</td>\n",
              "      <td>0.000000</td>\n",
              "    </tr>\n",
              "    <tr>\n",
              "      <th>25%</th>\n",
              "      <td>11.700000</td>\n",
              "      <td>16.170000</td>\n",
              "      <td>75.170000</td>\n",
              "      <td>420.300000</td>\n",
              "      <td>0.086370</td>\n",
              "      <td>0.064920</td>\n",
              "      <td>0.029560</td>\n",
              "      <td>0.020310</td>\n",
              "      <td>0.161900</td>\n",
              "      <td>0.057700</td>\n",
              "      <td>...</td>\n",
              "      <td>21.080000</td>\n",
              "      <td>84.110000</td>\n",
              "      <td>515.300000</td>\n",
              "      <td>0.116600</td>\n",
              "      <td>0.147200</td>\n",
              "      <td>0.114500</td>\n",
              "      <td>0.064930</td>\n",
              "      <td>0.250400</td>\n",
              "      <td>0.071460</td>\n",
              "      <td>0.000000</td>\n",
              "    </tr>\n",
              "    <tr>\n",
              "      <th>50%</th>\n",
              "      <td>13.370000</td>\n",
              "      <td>18.840000</td>\n",
              "      <td>86.240000</td>\n",
              "      <td>551.100000</td>\n",
              "      <td>0.095870</td>\n",
              "      <td>0.092630</td>\n",
              "      <td>0.061540</td>\n",
              "      <td>0.033500</td>\n",
              "      <td>0.179200</td>\n",
              "      <td>0.061540</td>\n",
              "      <td>...</td>\n",
              "      <td>25.410000</td>\n",
              "      <td>97.660000</td>\n",
              "      <td>686.500000</td>\n",
              "      <td>0.131300</td>\n",
              "      <td>0.211900</td>\n",
              "      <td>0.226700</td>\n",
              "      <td>0.099930</td>\n",
              "      <td>0.282200</td>\n",
              "      <td>0.080040</td>\n",
              "      <td>1.000000</td>\n",
              "    </tr>\n",
              "    <tr>\n",
              "      <th>75%</th>\n",
              "      <td>15.780000</td>\n",
              "      <td>21.800000</td>\n",
              "      <td>104.100000</td>\n",
              "      <td>782.700000</td>\n",
              "      <td>0.105300</td>\n",
              "      <td>0.130400</td>\n",
              "      <td>0.130700</td>\n",
              "      <td>0.074000</td>\n",
              "      <td>0.195700</td>\n",
              "      <td>0.066120</td>\n",
              "      <td>...</td>\n",
              "      <td>29.720000</td>\n",
              "      <td>125.400000</td>\n",
              "      <td>1084.000000</td>\n",
              "      <td>0.146000</td>\n",
              "      <td>0.339100</td>\n",
              "      <td>0.382900</td>\n",
              "      <td>0.161400</td>\n",
              "      <td>0.317900</td>\n",
              "      <td>0.092080</td>\n",
              "      <td>1.000000</td>\n",
              "    </tr>\n",
              "    <tr>\n",
              "      <th>max</th>\n",
              "      <td>28.110000</td>\n",
              "      <td>39.280000</td>\n",
              "      <td>188.500000</td>\n",
              "      <td>2501.000000</td>\n",
              "      <td>0.163400</td>\n",
              "      <td>0.345400</td>\n",
              "      <td>0.426800</td>\n",
              "      <td>0.201200</td>\n",
              "      <td>0.304000</td>\n",
              "      <td>0.097440</td>\n",
              "      <td>...</td>\n",
              "      <td>49.540000</td>\n",
              "      <td>251.200000</td>\n",
              "      <td>4254.000000</td>\n",
              "      <td>0.222600</td>\n",
              "      <td>1.058000</td>\n",
              "      <td>1.252000</td>\n",
              "      <td>0.291000</td>\n",
              "      <td>0.663800</td>\n",
              "      <td>0.207500</td>\n",
              "      <td>1.000000</td>\n",
              "    </tr>\n",
              "  </tbody>\n",
              "</table>\n",
              "<p>8 rows × 31 columns</p>\n",
              "</div>"
            ],
            "text/plain": [
              "       mean radius  mean texture  mean perimeter    mean area  \\\n",
              "count   569.000000    569.000000      569.000000   569.000000   \n",
              "mean     14.127292     19.289649       91.969033   654.889104   \n",
              "std       3.524049      4.301036       24.298981   351.914129   \n",
              "min       6.981000      9.710000       43.790000   143.500000   \n",
              "25%      11.700000     16.170000       75.170000   420.300000   \n",
              "50%      13.370000     18.840000       86.240000   551.100000   \n",
              "75%      15.780000     21.800000      104.100000   782.700000   \n",
              "max      28.110000     39.280000      188.500000  2501.000000   \n",
              "\n",
              "       mean smoothness  mean compactness  mean concavity  mean concave points  \\\n",
              "count       569.000000        569.000000      569.000000           569.000000   \n",
              "mean          0.096360          0.104341        0.088799             0.048919   \n",
              "std           0.014064          0.052813        0.079720             0.038803   \n",
              "min           0.052630          0.019380        0.000000             0.000000   \n",
              "25%           0.086370          0.064920        0.029560             0.020310   \n",
              "50%           0.095870          0.092630        0.061540             0.033500   \n",
              "75%           0.105300          0.130400        0.130700             0.074000   \n",
              "max           0.163400          0.345400        0.426800             0.201200   \n",
              "\n",
              "       mean symmetry  mean fractal dimension  ...  worst texture  \\\n",
              "count     569.000000              569.000000  ...     569.000000   \n",
              "mean        0.181162                0.062798  ...      25.677223   \n",
              "std         0.027414                0.007060  ...       6.146258   \n",
              "min         0.106000                0.049960  ...      12.020000   \n",
              "25%         0.161900                0.057700  ...      21.080000   \n",
              "50%         0.179200                0.061540  ...      25.410000   \n",
              "75%         0.195700                0.066120  ...      29.720000   \n",
              "max         0.304000                0.097440  ...      49.540000   \n",
              "\n",
              "       worst perimeter   worst area  worst smoothness  worst compactness  \\\n",
              "count       569.000000   569.000000        569.000000         569.000000   \n",
              "mean        107.261213   880.583128          0.132369           0.254265   \n",
              "std          33.602542   569.356993          0.022832           0.157336   \n",
              "min          50.410000   185.200000          0.071170           0.027290   \n",
              "25%          84.110000   515.300000          0.116600           0.147200   \n",
              "50%          97.660000   686.500000          0.131300           0.211900   \n",
              "75%         125.400000  1084.000000          0.146000           0.339100   \n",
              "max         251.200000  4254.000000          0.222600           1.058000   \n",
              "\n",
              "       worst concavity  worst concave points  worst symmetry  \\\n",
              "count       569.000000            569.000000      569.000000   \n",
              "mean          0.272188              0.114606        0.290076   \n",
              "std           0.208624              0.065732        0.061867   \n",
              "min           0.000000              0.000000        0.156500   \n",
              "25%           0.114500              0.064930        0.250400   \n",
              "50%           0.226700              0.099930        0.282200   \n",
              "75%           0.382900              0.161400        0.317900   \n",
              "max           1.252000              0.291000        0.663800   \n",
              "\n",
              "       worst fractal dimension       label  \n",
              "count               569.000000  569.000000  \n",
              "mean                  0.083946    0.627417  \n",
              "std                   0.018061    0.483918  \n",
              "min                   0.055040    0.000000  \n",
              "25%                   0.071460    0.000000  \n",
              "50%                   0.080040    1.000000  \n",
              "75%                   0.092080    1.000000  \n",
              "max                   0.207500    1.000000  \n",
              "\n",
              "[8 rows x 31 columns]"
            ]
          },
          "execution_count": 11,
          "metadata": {},
          "output_type": "execute_result"
        }
      ],
      "source": [
        "data_frame.describe()"
      ]
    },
    {
      "cell_type": "code",
      "execution_count": 12,
      "metadata": {
        "colab": {
          "base_uri": "https://localhost:8080/"
        },
        "id": "tC8Yii4Yjzer",
        "outputId": "0d5589af-9af8-44ed-9d07-38e7ff360e21"
      },
      "outputs": [
        {
          "data": {
            "text/plain": [
              "label\n",
              "1    357\n",
              "0    212\n",
              "Name: count, dtype: int64"
            ]
          },
          "execution_count": 12,
          "metadata": {},
          "output_type": "execute_result"
        }
      ],
      "source": [
        "data_frame['label'].value_counts()"
      ]
    },
    {
      "cell_type": "markdown",
      "metadata": {
        "id": "HbbkzWeFkjqc"
      },
      "source": [
        "1 -> Benign\n",
        "\n",
        "0 -> Malignant"
      ]
    },
    {
      "cell_type": "code",
      "execution_count": 13,
      "metadata": {
        "colab": {
          "base_uri": "https://localhost:8080/",
          "height": 272
        },
        "id": "YGWHjrVSkN5c",
        "outputId": "e8c49a34-7c21-489b-94d1-ff2ce146fca7"
      },
      "outputs": [
        {
          "data": {
            "text/html": [
              "<div>\n",
              "<style scoped>\n",
              "    .dataframe tbody tr th:only-of-type {\n",
              "        vertical-align: middle;\n",
              "    }\n",
              "\n",
              "    .dataframe tbody tr th {\n",
              "        vertical-align: top;\n",
              "    }\n",
              "\n",
              "    .dataframe thead th {\n",
              "        text-align: right;\n",
              "    }\n",
              "</style>\n",
              "<table border=\"1\" class=\"dataframe\">\n",
              "  <thead>\n",
              "    <tr style=\"text-align: right;\">\n",
              "      <th></th>\n",
              "      <th>mean radius</th>\n",
              "      <th>mean texture</th>\n",
              "      <th>mean perimeter</th>\n",
              "      <th>mean area</th>\n",
              "      <th>mean smoothness</th>\n",
              "      <th>mean compactness</th>\n",
              "      <th>mean concavity</th>\n",
              "      <th>mean concave points</th>\n",
              "      <th>mean symmetry</th>\n",
              "      <th>mean fractal dimension</th>\n",
              "      <th>...</th>\n",
              "      <th>worst radius</th>\n",
              "      <th>worst texture</th>\n",
              "      <th>worst perimeter</th>\n",
              "      <th>worst area</th>\n",
              "      <th>worst smoothness</th>\n",
              "      <th>worst compactness</th>\n",
              "      <th>worst concavity</th>\n",
              "      <th>worst concave points</th>\n",
              "      <th>worst symmetry</th>\n",
              "      <th>worst fractal dimension</th>\n",
              "    </tr>\n",
              "    <tr>\n",
              "      <th>label</th>\n",
              "      <th></th>\n",
              "      <th></th>\n",
              "      <th></th>\n",
              "      <th></th>\n",
              "      <th></th>\n",
              "      <th></th>\n",
              "      <th></th>\n",
              "      <th></th>\n",
              "      <th></th>\n",
              "      <th></th>\n",
              "      <th></th>\n",
              "      <th></th>\n",
              "      <th></th>\n",
              "      <th></th>\n",
              "      <th></th>\n",
              "      <th></th>\n",
              "      <th></th>\n",
              "      <th></th>\n",
              "      <th></th>\n",
              "      <th></th>\n",
              "      <th></th>\n",
              "    </tr>\n",
              "  </thead>\n",
              "  <tbody>\n",
              "    <tr>\n",
              "      <th>0</th>\n",
              "      <td>17.462830</td>\n",
              "      <td>21.604906</td>\n",
              "      <td>115.365377</td>\n",
              "      <td>978.376415</td>\n",
              "      <td>0.102898</td>\n",
              "      <td>0.145188</td>\n",
              "      <td>0.160775</td>\n",
              "      <td>0.087990</td>\n",
              "      <td>0.192909</td>\n",
              "      <td>0.062680</td>\n",
              "      <td>...</td>\n",
              "      <td>21.134811</td>\n",
              "      <td>29.318208</td>\n",
              "      <td>141.370330</td>\n",
              "      <td>1422.286321</td>\n",
              "      <td>0.144845</td>\n",
              "      <td>0.374824</td>\n",
              "      <td>0.450606</td>\n",
              "      <td>0.182237</td>\n",
              "      <td>0.323468</td>\n",
              "      <td>0.091530</td>\n",
              "    </tr>\n",
              "    <tr>\n",
              "      <th>1</th>\n",
              "      <td>12.146524</td>\n",
              "      <td>17.914762</td>\n",
              "      <td>78.075406</td>\n",
              "      <td>462.790196</td>\n",
              "      <td>0.092478</td>\n",
              "      <td>0.080085</td>\n",
              "      <td>0.046058</td>\n",
              "      <td>0.025717</td>\n",
              "      <td>0.174186</td>\n",
              "      <td>0.062867</td>\n",
              "      <td>...</td>\n",
              "      <td>13.379801</td>\n",
              "      <td>23.515070</td>\n",
              "      <td>87.005938</td>\n",
              "      <td>558.899440</td>\n",
              "      <td>0.124959</td>\n",
              "      <td>0.182673</td>\n",
              "      <td>0.166238</td>\n",
              "      <td>0.074444</td>\n",
              "      <td>0.270246</td>\n",
              "      <td>0.079442</td>\n",
              "    </tr>\n",
              "  </tbody>\n",
              "</table>\n",
              "<p>2 rows × 30 columns</p>\n",
              "</div>"
            ],
            "text/plain": [
              "       mean radius  mean texture  mean perimeter   mean area  mean smoothness  \\\n",
              "label                                                                           \n",
              "0        17.462830     21.604906      115.365377  978.376415         0.102898   \n",
              "1        12.146524     17.914762       78.075406  462.790196         0.092478   \n",
              "\n",
              "       mean compactness  mean concavity  mean concave points  mean symmetry  \\\n",
              "label                                                                         \n",
              "0              0.145188        0.160775             0.087990       0.192909   \n",
              "1              0.080085        0.046058             0.025717       0.174186   \n",
              "\n",
              "       mean fractal dimension  ...  worst radius  worst texture  \\\n",
              "label                          ...                                \n",
              "0                    0.062680  ...     21.134811      29.318208   \n",
              "1                    0.062867  ...     13.379801      23.515070   \n",
              "\n",
              "       worst perimeter   worst area  worst smoothness  worst compactness  \\\n",
              "label                                                                      \n",
              "0           141.370330  1422.286321          0.144845           0.374824   \n",
              "1            87.005938   558.899440          0.124959           0.182673   \n",
              "\n",
              "       worst concavity  worst concave points  worst symmetry  \\\n",
              "label                                                          \n",
              "0             0.450606              0.182237        0.323468   \n",
              "1             0.166238              0.074444        0.270246   \n",
              "\n",
              "       worst fractal dimension  \n",
              "label                           \n",
              "0                     0.091530  \n",
              "1                     0.079442  \n",
              "\n",
              "[2 rows x 30 columns]"
            ]
          },
          "execution_count": 13,
          "metadata": {},
          "output_type": "execute_result"
        }
      ],
      "source": [
        "data_frame.groupby('label').mean()"
      ]
    },
    {
      "cell_type": "markdown",
      "metadata": {
        "id": "tUPYps4DlVFR"
      },
      "source": [
        "Separating the features and target"
      ]
    },
    {
      "cell_type": "code",
      "execution_count": 14,
      "metadata": {
        "id": "Z5pD8rP5kzKD"
      },
      "outputs": [],
      "source": [
        "X = data_frame.drop(columns='label', axis=1)\n",
        "Y = data_frame['label']"
      ]
    },
    {
      "cell_type": "code",
      "execution_count": 15,
      "metadata": {
        "colab": {
          "base_uri": "https://localhost:8080/"
        },
        "id": "Z-GWJHpAlpWJ",
        "outputId": "79222686-492d-4d6d-dd39-b69285477b81"
      },
      "outputs": [
        {
          "name": "stdout",
          "output_type": "stream",
          "text": [
            "     mean radius  mean texture  mean perimeter  mean area  mean smoothness  \\\n",
            "0          17.99         10.38          122.80     1001.0          0.11840   \n",
            "1          20.57         17.77          132.90     1326.0          0.08474   \n",
            "2          19.69         21.25          130.00     1203.0          0.10960   \n",
            "3          11.42         20.38           77.58      386.1          0.14250   \n",
            "4          20.29         14.34          135.10     1297.0          0.10030   \n",
            "..           ...           ...             ...        ...              ...   \n",
            "564        21.56         22.39          142.00     1479.0          0.11100   \n",
            "565        20.13         28.25          131.20     1261.0          0.09780   \n",
            "566        16.60         28.08          108.30      858.1          0.08455   \n",
            "567        20.60         29.33          140.10     1265.0          0.11780   \n",
            "568         7.76         24.54           47.92      181.0          0.05263   \n",
            "\n",
            "     mean compactness  mean concavity  mean concave points  mean symmetry  \\\n",
            "0             0.27760         0.30010              0.14710         0.2419   \n",
            "1             0.07864         0.08690              0.07017         0.1812   \n",
            "2             0.15990         0.19740              0.12790         0.2069   \n",
            "3             0.28390         0.24140              0.10520         0.2597   \n",
            "4             0.13280         0.19800              0.10430         0.1809   \n",
            "..                ...             ...                  ...            ...   \n",
            "564           0.11590         0.24390              0.13890         0.1726   \n",
            "565           0.10340         0.14400              0.09791         0.1752   \n",
            "566           0.10230         0.09251              0.05302         0.1590   \n",
            "567           0.27700         0.35140              0.15200         0.2397   \n",
            "568           0.04362         0.00000              0.00000         0.1587   \n",
            "\n",
            "     mean fractal dimension  ...  worst radius  worst texture  \\\n",
            "0                   0.07871  ...        25.380          17.33   \n",
            "1                   0.05667  ...        24.990          23.41   \n",
            "2                   0.05999  ...        23.570          25.53   \n",
            "3                   0.09744  ...        14.910          26.50   \n",
            "4                   0.05883  ...        22.540          16.67   \n",
            "..                      ...  ...           ...            ...   \n",
            "564                 0.05623  ...        25.450          26.40   \n",
            "565                 0.05533  ...        23.690          38.25   \n",
            "566                 0.05648  ...        18.980          34.12   \n",
            "567                 0.07016  ...        25.740          39.42   \n",
            "568                 0.05884  ...         9.456          30.37   \n",
            "\n",
            "     worst perimeter  worst area  worst smoothness  worst compactness  \\\n",
            "0             184.60      2019.0           0.16220            0.66560   \n",
            "1             158.80      1956.0           0.12380            0.18660   \n",
            "2             152.50      1709.0           0.14440            0.42450   \n",
            "3              98.87       567.7           0.20980            0.86630   \n",
            "4             152.20      1575.0           0.13740            0.20500   \n",
            "..               ...         ...               ...                ...   \n",
            "564           166.10      2027.0           0.14100            0.21130   \n",
            "565           155.00      1731.0           0.11660            0.19220   \n",
            "566           126.70      1124.0           0.11390            0.30940   \n",
            "567           184.60      1821.0           0.16500            0.86810   \n",
            "568            59.16       268.6           0.08996            0.06444   \n",
            "\n",
            "     worst concavity  worst concave points  worst symmetry  \\\n",
            "0             0.7119                0.2654          0.4601   \n",
            "1             0.2416                0.1860          0.2750   \n",
            "2             0.4504                0.2430          0.3613   \n",
            "3             0.6869                0.2575          0.6638   \n",
            "4             0.4000                0.1625          0.2364   \n",
            "..               ...                   ...             ...   \n",
            "564           0.4107                0.2216          0.2060   \n",
            "565           0.3215                0.1628          0.2572   \n",
            "566           0.3403                0.1418          0.2218   \n",
            "567           0.9387                0.2650          0.4087   \n",
            "568           0.0000                0.0000          0.2871   \n",
            "\n",
            "     worst fractal dimension  \n",
            "0                    0.11890  \n",
            "1                    0.08902  \n",
            "2                    0.08758  \n",
            "3                    0.17300  \n",
            "4                    0.07678  \n",
            "..                       ...  \n",
            "564                  0.07115  \n",
            "565                  0.06637  \n",
            "566                  0.07820  \n",
            "567                  0.12400  \n",
            "568                  0.07039  \n",
            "\n",
            "[569 rows x 30 columns]\n"
          ]
        }
      ],
      "source": [
        "print(X)"
      ]
    },
    {
      "cell_type": "code",
      "execution_count": 16,
      "metadata": {
        "colab": {
          "base_uri": "https://localhost:8080/"
        },
        "id": "r5rs8pColqsn",
        "outputId": "ac5f9e59-3aa1-43b8-91f9-e97e761a117f"
      },
      "outputs": [
        {
          "name": "stdout",
          "output_type": "stream",
          "text": [
            "0      0\n",
            "1      0\n",
            "2      0\n",
            "3      0\n",
            "4      0\n",
            "      ..\n",
            "564    0\n",
            "565    0\n",
            "566    0\n",
            "567    0\n",
            "568    1\n",
            "Name: label, Length: 569, dtype: int32\n"
          ]
        }
      ],
      "source": [
        "print(Y)"
      ]
    },
    {
      "cell_type": "markdown",
      "metadata": {
        "id": "B5yk9d-Nl4VV"
      },
      "source": [
        "Splitting the data into training data & Testing data"
      ]
    },
    {
      "cell_type": "code",
      "execution_count": 17,
      "metadata": {
        "id": "vZtU30bPluG_"
      },
      "outputs": [],
      "source": [
        "X_train, X_test, Y_train, Y_test = train_test_split(X, Y, test_size=0.2, random_state=2)"
      ]
    },
    {
      "cell_type": "code",
      "execution_count": 18,
      "metadata": {
        "colab": {
          "base_uri": "https://localhost:8080/"
        },
        "id": "zWaeuX3amqYH",
        "outputId": "5f56841f-272a-4494-f6b0-f269f2d35250"
      },
      "outputs": [
        {
          "name": "stdout",
          "output_type": "stream",
          "text": [
            "(569, 30) (455, 30) (114, 30)\n"
          ]
        }
      ],
      "source": [
        "print(X.shape, X_train.shape, X_test.shape)"
      ]
    },
    {
      "cell_type": "markdown",
      "metadata": {
        "id": "0g1NEndK7UB6"
      },
      "source": [
        "Standardize the data"
      ]
    },
    {
      "cell_type": "code",
      "execution_count": 19,
      "metadata": {
        "id": "C5EP9f_B7UXU"
      },
      "outputs": [],
      "source": [
        "from sklearn.preprocessing import StandardScaler"
      ]
    },
    {
      "cell_type": "code",
      "execution_count": 20,
      "metadata": {
        "id": "sCGC8dku7cge"
      },
      "outputs": [],
      "source": [
        "scaler = StandardScaler()\n",
        "\n",
        "X_train_std = scaler.fit_transform(X_train)\n",
        "\n",
        "X_test_std = scaler.transform(X_test)"
      ]
    },
    {
      "cell_type": "markdown",
      "metadata": {
        "id": "VxyxgeK8qkDj"
      },
      "source": [
        "**Building the Neural Network**"
      ]
    },
    {
      "cell_type": "markdown",
      "metadata": {
        "id": "sC4KsFDyqyvN"
      },
      "source": [
        "![download.png](data:image/png;base64,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)"
      ]
    },
    {
      "cell_type": "code",
      "execution_count": 21,
      "metadata": {
        "id": "1WX_ChHfqrV2"
      },
      "outputs": [],
      "source": [
        "import tensorflow as tf\n",
        "tf.random.set_seed(3)\n",
        "from tensorflow import keras"
      ]
    },
    {
      "cell_type": "code",
      "execution_count": 22,
      "metadata": {
        "id": "rL0jvBLY3Lkq"
      },
      "outputs": [
        {
          "name": "stderr",
          "output_type": "stream",
          "text": [
            "c:\\Users\\priya\\AppData\\Local\\Programs\\Python\\Python312\\Lib\\site-packages\\keras\\src\\layers\\reshaping\\flatten.py:37: UserWarning: Do not pass an `input_shape`/`input_dim` argument to a layer. When using Sequential models, prefer using an `Input(shape)` object as the first layer in the model instead.\n",
            "  super().__init__(**kwargs)\n"
          ]
        }
      ],
      "source": [
        "# setting up the layers of Neural Network\n",
        "\n",
        "model = keras.Sequential([\n",
        "                          keras.layers.Flatten(input_shape=(30,)),\n",
        "                          keras.layers.Dense(20, activation='relu'),\n",
        "                          keras.layers.Dense(2, activation='sigmoid')\n",
        "])"
      ]
    },
    {
      "cell_type": "code",
      "execution_count": 23,
      "metadata": {
        "id": "DrqX3ZGv48Ef"
      },
      "outputs": [],
      "source": [
        "# compiling the Neural Network\n",
        "\n",
        "model.compile(optimizer='adam',\n",
        "              loss='sparse_categorical_crossentropy',\n",
        "              metrics=['accuracy'])"
      ]
    },
    {
      "cell_type": "code",
      "execution_count": 24,
      "metadata": {
        "colab": {
          "base_uri": "https://localhost:8080/"
        },
        "id": "4aullV3v584B",
        "outputId": "23f9f3a9-006a-439c-a8e8-cd301f5d4301"
      },
      "outputs": [
        {
          "name": "stdout",
          "output_type": "stream",
          "text": [
            "Epoch 1/10\n",
            "\u001b[1m13/13\u001b[0m \u001b[32m━━━━━━━━━━━━━━━━━━━━\u001b[0m\u001b[37m\u001b[0m \u001b[1m1s\u001b[0m 11ms/step - accuracy: 0.4254 - loss: 0.8128 - val_accuracy: 0.7826 - val_loss: 0.4753\n",
            "Epoch 2/10\n",
            "\u001b[1m13/13\u001b[0m \u001b[32m━━━━━━━━━━━━━━━━━━━━\u001b[0m\u001b[37m\u001b[0m \u001b[1m0s\u001b[0m 3ms/step - accuracy: 0.7952 - loss: 0.4845 - val_accuracy: 0.9565 - val_loss: 0.3031\n",
            "Epoch 3/10\n",
            "\u001b[1m13/13\u001b[0m \u001b[32m━━━━━━━━━━━━━━━━━━━━\u001b[0m\u001b[37m\u001b[0m \u001b[1m0s\u001b[0m 2ms/step - accuracy: 0.8933 - loss: 0.3363 - val_accuracy: 0.9783 - val_loss: 0.2244\n",
            "Epoch 4/10\n",
            "\u001b[1m13/13\u001b[0m \u001b[32m━━━━━━━━━━━━━━━━━━━━\u001b[0m\u001b[37m\u001b[0m \u001b[1m0s\u001b[0m 2ms/step - accuracy: 0.9300 - loss: 0.2596 - val_accuracy: 0.9783 - val_loss: 0.1840\n",
            "Epoch 5/10\n",
            "\u001b[1m13/13\u001b[0m \u001b[32m━━━━━━━━━━━━━━━━━━━━\u001b[0m\u001b[37m\u001b[0m \u001b[1m0s\u001b[0m 2ms/step - accuracy: 0.9369 - loss: 0.2150 - val_accuracy: 0.9783 - val_loss: 0.1599\n",
            "Epoch 6/10\n",
            "\u001b[1m13/13\u001b[0m \u001b[32m━━━━━━━━━━━━━━━━━━━━\u001b[0m\u001b[37m\u001b[0m \u001b[1m0s\u001b[0m 3ms/step - accuracy: 0.9365 - loss: 0.1867 - val_accuracy: 0.9783 - val_loss: 0.1441\n",
            "Epoch 7/10\n",
            "\u001b[1m13/13\u001b[0m \u001b[32m━━━━━━━━━━━━━━━━━━━━\u001b[0m\u001b[37m\u001b[0m \u001b[1m0s\u001b[0m 2ms/step - accuracy: 0.9401 - loss: 0.1671 - val_accuracy: 0.9783 - val_loss: 0.1327\n",
            "Epoch 8/10\n",
            "\u001b[1m13/13\u001b[0m \u001b[32m━━━━━━━━━━━━━━━━━━━━\u001b[0m\u001b[37m\u001b[0m \u001b[1m0s\u001b[0m 2ms/step - accuracy: 0.9457 - loss: 0.1524 - val_accuracy: 0.9783 - val_loss: 0.1241\n",
            "Epoch 9/10\n",
            "\u001b[1m13/13\u001b[0m \u001b[32m━━━━━━━━━━━━━━━━━━━━\u001b[0m\u001b[37m\u001b[0m \u001b[1m0s\u001b[0m 2ms/step - accuracy: 0.9529 - loss: 0.1406 - val_accuracy: 0.9783 - val_loss: 0.1170\n",
            "Epoch 10/10\n",
            "\u001b[1m13/13\u001b[0m \u001b[32m━━━━━━━━━━━━━━━━━━━━\u001b[0m\u001b[37m\u001b[0m \u001b[1m0s\u001b[0m 2ms/step - accuracy: 0.9636 - loss: 0.1309 - val_accuracy: 0.9783 - val_loss: 0.1112\n"
          ]
        }
      ],
      "source": [
        "# training the Meural Network\n",
        "\n",
        "history = model.fit(X_train_std, Y_train, validation_split=0.1, epochs=10)"
      ]
    },
    {
      "cell_type": "markdown",
      "metadata": {
        "id": "QZCz8JJ98guH"
      },
      "source": [
        "Visualizing accuracy and loss"
      ]
    },
    {
      "cell_type": "code",
      "execution_count": 25,
      "metadata": {
        "colab": {
          "base_uri": "https://localhost:8080/",
          "height": 312
        },
        "id": "pNism-Z55zmw",
        "outputId": "4bd981d6-e52b-42cc-f40d-078df36ca4f9"
      },
      "outputs": [
        {
          "data": {
            "text/plain": [
              "<matplotlib.legend.Legend at 0x2a6ed201ac0>"
            ]
          },
          "execution_count": 25,
          "metadata": {},
          "output_type": "execute_result"
        },
        {
          "data": {
            "image/png": "[encoded data removed]",
            "text/plain": [
              "<Figure size 640x480 with 1 Axes>"
            ]
          },
          "metadata": {},
          "output_type": "display_data"
        }
      ],
      "source": [
        "plt.plot(history.history['accuracy'])\n",
        "plt.plot(history.history['val_accuracy'])\n",
        "\n",
        "plt.title('model accuracy')\n",
        "plt.ylabel('accuracy')\n",
        "plt.xlabel('epoch')\n",
        "\n",
        "plt.legend(['training data', 'validation data'], loc = 'lower right')"
      ]
    },
    {
      "cell_type": "code",
      "execution_count": 26,
      "metadata": {
        "colab": {
          "base_uri": "https://localhost:8080/",
          "height": 312
        },
        "id": "ZrgfNlbk9EZK",
        "outputId": "fd085a2b-1a9a-46b2-a03a-7713d31a0e63"
      },
      "outputs": [
        {
          "data": {
            "text/plain": [
              "<matplotlib.legend.Legend at 0x2a6efaee240>"
            ]
          },
          "execution_count": 26,
          "metadata": {},
          "output_type": "execute_result"
        },
        {
          "data": {
            "image/png": "[encoded data removed]",
            "text/plain": [
              "<Figure size 640x480 with 1 Axes>"
            ]
          },
          "metadata": {},
          "output_type": "display_data"
        }
      ],
      "source": [
        "plt.plot(history.history['loss'])\n",
        "plt.plot(history.history['val_loss'])\n",
        "\n",
        "plt.title('model loss')\n",
        "plt.ylabel('loss')\n",
        "plt.xlabel('epoch')\n",
        "\n",
        "plt.legend(['training data', 'validation data'], loc = 'upper right')"
      ]
    },
    {
      "cell_type": "markdown",
      "metadata": {
        "id": "ycbLKSDl-SJX"
      },
      "source": [
        "Accuracy of the model on test data"
      ]
    },
    {
      "cell_type": "code",
      "execution_count": 27,
      "metadata": {
        "colab": {
          "base_uri": "https://localhost:8080/"
        },
        "id": "D3RgBzQF-B8W",
        "outputId": "a4b9d5b1-c9d7-41fe-f0f2-9ee230b4b67b"
      },
      "outputs": [
        {
          "name": "stdout",
          "output_type": "stream",
          "text": [
            "\u001b[1m4/4\u001b[0m \u001b[32m━━━━━━━━━━━━━━━━━━━━\u001b[0m\u001b[37m\u001b[0m \u001b[1m0s\u001b[0m 2ms/step - accuracy: 0.9641 - loss: 0.1398 \n",
            "0.9649122953414917\n"
          ]
        }
      ],
      "source": [
        "loss, accuracy = model.evaluate(X_test_std, Y_test)\n",
        "print(accuracy)"
      ]
    },
    {
      "cell_type": "code",
      "execution_count": 28,
      "metadata": {
        "colab": {
          "base_uri": "https://localhost:8080/"
        },
        "id": "OWyJPf9O-oJT",
        "outputId": "b64b80a8-5327-4e6f-96f2-bd2b78fa6a0f"
      },
      "outputs": [
        {
          "name": "stdout",
          "output_type": "stream",
          "text": [
            "(114, 30)\n",
            "[-0.04462793 -1.41612656 -0.05903514 -0.16234067  2.0202457  -0.11323672\n",
            "  0.18500609  0.47102419  0.63336386  0.26335737  0.53209124  2.62763999\n",
            "  0.62351167  0.11405261  1.01246781  0.41126289  0.63848593  2.88971815\n",
            " -0.41675911  0.74270853 -0.32983699 -1.67435595 -0.36854552 -0.38767294\n",
            "  0.32655007 -0.74858917 -0.54689089 -0.18278004 -1.23064515 -0.6268286 ]\n"
          ]
        }
      ],
      "source": [
        "print(X_test_std.shape)\n",
        "print(X_test_std[0])"
      ]
    },
    {
      "cell_type": "code",
      "execution_count": 29,
      "metadata": {
        "id": "XWAZk1SK-3qf"
      },
      "outputs": [
        {
          "name": "stdout",
          "output_type": "stream",
          "text": [
            "\u001b[1m4/4\u001b[0m \u001b[32m━━━━━━━━━━━━━━━━━━━━\u001b[0m\u001b[37m\u001b[0m \u001b[1m0s\u001b[0m 7ms/step \n"
          ]
        }
      ],
      "source": [
        "Y_pred = model.predict(X_test_std)"
      ]
    },
    {
      "cell_type": "code",
      "execution_count": 30,
      "metadata": {
        "colab": {
          "base_uri": "https://localhost:8080/"
        },
        "id": "umNl8qUX_GeO",
        "outputId": "96a03dc1-a768-4d5e-9fbf-0b59abf44751"
      },
      "outputs": [
        {
          "name": "stdout",
          "output_type": "stream",
          "text": [
            "(114, 2)\n",
            "[0.3308992 0.4375952]\n"
          ]
        }
      ],
      "source": [
        "print(Y_pred.shape)\n",
        "print(Y_pred[0])"
      ]
    },
    {
      "cell_type": "code",
      "execution_count": 31,
      "metadata": {
        "colab": {
          "base_uri": "https://localhost:8080/"
        },
        "id": "0lsaXHZr_mTT",
        "outputId": "f02bd988-b222-435f-8524-c2e4cd5caade"
      },
      "outputs": [
        {
          "name": "stdout",
          "output_type": "stream",
          "text": [
            "[[-0.04462793 -1.41612656 -0.05903514 ... -0.18278004 -1.23064515\n",
            "  -0.6268286 ]\n",
            " [ 0.24583601 -0.06219797  0.21802678 ...  0.54129749  0.11047691\n",
            "   0.0483572 ]\n",
            " [-1.26115925 -0.29051645 -1.26499659 ... -1.35138617  0.269338\n",
            "  -0.28231213]\n",
            " ...\n",
            " [ 0.72709489  0.45836817  0.75277276 ...  1.46701686  1.19909344\n",
            "   0.65319961]\n",
            " [ 0.25437907  1.33054477  0.15659489 ... -1.29043534 -2.22561725\n",
            "  -1.59557344]\n",
            " [ 0.84100232 -0.06676434  0.8929529  ...  2.15137705  0.35629355\n",
            "   0.37459546]]\n"
          ]
        }
      ],
      "source": [
        "print(X_test_std)"
      ]
    },
    {
      "cell_type": "code",
      "execution_count": 32,
      "metadata": {
        "colab": {
          "base_uri": "https://localhost:8080/"
        },
        "id": "cmaeRBc7_M59",
        "outputId": "61de1d7b-54d9-48e1-f2bb-e37fcdf3a211"
      },
      "outputs": [
        {
          "name": "stdout",
          "output_type": "stream",
          "text": [
            "[[3.30899209e-01 4.37595189e-01]\n",
            " [4.68427956e-01 6.47255003e-01]\n",
            " [1.51284412e-01 9.31742072e-01]\n",
            " [9.82472003e-01 9.57339853e-06]\n",
            " [4.34300721e-01 4.99704927e-01]\n",
            " [8.67187321e-01 3.75128235e-03]\n",
            " [3.27212185e-01 7.24197865e-01]\n",
            " [3.97502422e-01 9.59023654e-01]\n",
            " [3.13334674e-01 8.96499634e-01]\n",
            " [3.28586966e-01 9.20740128e-01]\n",
            " [5.50173283e-01 5.97533643e-01]\n",
            " [2.41882458e-01 7.55599320e-01]\n",
            " [1.69391900e-01 6.39724374e-01]\n",
            " [3.17509145e-01 7.02282012e-01]\n",
            " [3.43154222e-01 9.11016762e-01]\n",
            " [4.87177253e-01 3.48007753e-02]\n",
            " [2.47932777e-01 9.21887755e-01]\n",
            " [8.17819461e-02 8.17788601e-01]\n",
            " [2.56693393e-01 9.35203254e-01]\n",
            " [5.95712185e-01 5.26559865e-03]\n",
            " [9.07588005e-03 1.27406353e-02]\n",
            " [1.77816942e-01 9.24871325e-01]\n",
            " [3.67044777e-01 9.22830105e-01]\n",
            " [2.29408398e-01 9.20877874e-01]\n",
            " [3.83129269e-01 7.02313900e-01]\n",
            " [6.85418189e-01 2.02468969e-02]\n",
            " [3.16760749e-01 7.71350026e-01]\n",
            " [2.48744950e-01 7.16202497e-01]\n",
            " [5.43052077e-01 4.06360030e-02]\n",
            " [6.78304791e-01 2.30973326e-02]\n",
            " [2.99812883e-01 8.59218538e-01]\n",
            " [3.02225709e-01 8.43237221e-01]\n",
            " [2.21420199e-01 8.78262401e-01]\n",
            " [9.76622522e-01 5.81930508e-04]\n",
            " [8.51548016e-01 9.86621622e-03]\n",
            " [1.58449963e-01 7.82426178e-01]\n",
            " [3.66284251e-01 9.87375796e-01]\n",
            " [4.18165892e-01 9.11878347e-01]\n",
            " [1.46594122e-01 8.55168939e-01]\n",
            " [1.32104278e-01 7.82050550e-01]\n",
            " [9.38629627e-01 9.34814889e-05]\n",
            " [5.79993963e-01 2.24362522e-01]\n",
            " [3.76356781e-01 9.64473546e-01]\n",
            " [8.70769992e-02 7.82035291e-01]\n",
            " [6.88935995e-01 1.24363229e-01]\n",
            " [3.56547952e-01 9.04162884e-01]\n",
            " [9.58616957e-02 8.78031194e-01]\n",
            " [2.31031328e-01 9.23506856e-01]\n",
            " [8.43464255e-01 1.38720416e-03]\n",
            " [7.86219537e-01 5.92226312e-02]\n",
            " [3.55514735e-01 9.43040073e-01]\n",
            " [5.08261085e-01 2.83523798e-01]\n",
            " [5.07299602e-01 4.93731529e-01]\n",
            " [2.67751575e-01 9.24246073e-01]\n",
            " [1.81099758e-01 8.72865558e-01]\n",
            " [5.98701000e-01 5.39955199e-01]\n",
            " [1.77426204e-01 7.56890833e-01]\n",
            " [2.73748279e-01 8.88911903e-01]\n",
            " [4.28734899e-01 2.99157407e-02]\n",
            " [1.13615535e-01 7.82849669e-01]\n",
            " [3.61334860e-01 6.27796829e-01]\n",
            " [2.55917132e-01 6.23195292e-03]\n",
            " [2.21481442e-01 9.30419326e-01]\n",
            " [8.92215908e-01 2.37734411e-02]\n",
            " [7.75782466e-01 1.56910643e-01]\n",
            " [6.23884723e-02 8.41046572e-02]\n",
            " [8.49785030e-01 1.93208246e-03]\n",
            " [8.07052791e-01 1.16475508e-01]\n",
            " [2.56377190e-01 7.95024455e-01]\n",
            " [6.22389555e-01 2.15899184e-01]\n",
            " [5.01052022e-01 2.79638972e-02]\n",
            " [6.57585979e-01 6.38998533e-03]\n",
            " [3.54235381e-01 8.90123844e-01]\n",
            " [6.89243197e-01 2.15060607e-01]\n",
            " [1.79694980e-01 9.15159225e-01]\n",
            " [7.82106996e-01 1.92936555e-01]\n",
            " [1.36650950e-01 8.63505602e-01]\n",
            " [2.86686838e-01 8.75486493e-01]\n",
            " [3.79631072e-01 7.12666094e-01]\n",
            " [5.69883883e-01 2.36779630e-01]\n",
            " [8.15094948e-01 1.37808844e-02]\n",
            " [6.86903000e-01 1.49293423e-01]\n",
            " [8.57926011e-01 2.26287805e-02]\n",
            " [2.35737532e-01 6.91230476e-01]\n",
            " [1.85877144e-01 8.34111094e-01]\n",
            " [3.85863215e-01 7.48184860e-01]\n",
            " [3.92111205e-02 7.08832741e-01]\n",
            " [3.20286989e-01 7.90213585e-01]\n",
            " [2.08785027e-01 5.94082654e-01]\n",
            " [8.17270994e-01 1.42062502e-03]\n",
            " [2.30092943e-01 8.11598063e-01]\n",
            " [3.62735838e-01 8.74323487e-01]\n",
            " [5.31943142e-02 7.32166290e-01]\n",
            " [7.75491357e-01 7.16234371e-03]\n",
            " [7.02058136e-01 1.40210390e-01]\n",
            " [3.42249602e-01 7.44362950e-01]\n",
            " [8.13610315e-01 7.16920383e-03]\n",
            " [8.73487711e-01 3.05632539e-02]\n",
            " [5.19863367e-01 8.49212229e-01]\n",
            " [3.16044092e-01 9.63405013e-01]\n",
            " [2.54993498e-01 9.65855718e-01]\n",
            " [4.98856574e-01 2.19657645e-01]\n",
            " [7.51650095e-01 4.52269916e-04]\n",
            " [8.97695720e-01 7.55718153e-04]\n",
            " [4.49340820e-01 9.11220908e-01]\n",
            " [1.12641603e-01 8.40297878e-01]\n",
            " [8.12717620e-03 9.32688594e-01]\n",
            " [2.44056564e-02 8.77591491e-01]\n",
            " [5.43337651e-02 9.43309426e-01]\n",
            " [4.22351390e-01 8.83907795e-01]\n",
            " [7.19360471e-01 3.52010666e-03]\n",
            " [9.33200657e-01 4.46312036e-03]\n",
            " [2.99735397e-01 7.36517429e-01]\n",
            " [7.61021972e-01 3.47595550e-02]]\n"
          ]
        }
      ],
      "source": [
        "print(Y_pred)"
      ]
    },
    {
      "cell_type": "markdown",
      "metadata": {
        "id": "dx5ZqN_W_6U-"
      },
      "source": [
        "model.predict() gives the prediction probability of each class for that data point"
      ]
    },
    {
      "cell_type": "code",
      "execution_count": 33,
      "metadata": {
        "colab": {
          "base_uri": "https://localhost:8080/"
        },
        "id": "pPF0aJ0sAbML",
        "outputId": "bf537283-6540-4140-9862-50d8a6a52634"
      },
      "outputs": [
        {
          "name": "stdout",
          "output_type": "stream",
          "text": [
            "[0.25, 0.56]\n",
            "1\n"
          ]
        }
      ],
      "source": [
        "#  argmax function\n",
        "\n",
        "my_list = [0.25, 0.56]\n",
        "\n",
        "index_of_max_value = np.argmax(my_list)\n",
        "print(my_list)\n",
        "print(index_of_max_value)"
      ]
    },
    {
      "cell_type": "code",
      "execution_count": 34,
      "metadata": {
        "colab": {
          "base_uri": "https://localhost:8080/"
        },
        "id": "67EUrfSf_rZi",
        "outputId": "1b0e9ad6-04fb-4577-b940-9626b87b7d1f"
      },
      "outputs": [
        {
          "name": "stdout",
          "output_type": "stream",
          "text": [
            "[1, 1, 1, 0, 1, 0, 1, 1, 1, 1, 1, 1, 1, 1, 1, 0, 1, 1, 1, 0, 1, 1, 1, 1, 1, 0, 1, 1, 0, 0, 1, 1, 1, 0, 0, 1, 1, 1, 1, 1, 0, 0, 1, 1, 0, 1, 1, 1, 0, 0, 1, 0, 0, 1, 1, 0, 1, 1, 0, 1, 1, 0, 1, 0, 0, 1, 0, 0, 1, 0, 0, 0, 1, 0, 1, 0, 1, 1, 1, 0, 0, 0, 0, 1, 1, 1, 1, 1, 1, 0, 1, 1, 1, 0, 0, 1, 0, 0, 1, 1, 1, 0, 0, 0, 1, 1, 1, 1, 1, 1, 0, 0, 1, 0]\n"
          ]
        }
      ],
      "source": [
        "# converting the prediction probability to class labels\n",
        "\n",
        "Y_pred_labels = [np.argmax(i) for i in Y_pred]\n",
        "print(Y_pred_labels)"
      ]
    },
    {
      "cell_type": "markdown",
      "metadata": {
        "id": "PBvyhDoEBVk8"
      },
      "source": [
        "**Building the predictive system**"
      ]
    },
    {
      "cell_type": "code",
      "execution_count": 35,
      "metadata": {
        "colab": {
          "base_uri": "https://localhost:8080/"
        },
        "id": "rXQi6eStBJxb",
        "outputId": "3ea1b205-dfef-4613-d2e2-e569cced7254"
      },
      "outputs": [
        {
          "name": "stdout",
          "output_type": "stream",
          "text": [
            "\u001b[1m1/1\u001b[0m \u001b[32m━━━━━━━━━━━━━━━━━━━━\u001b[0m\u001b[37m\u001b[0m \u001b[1m0s\u001b[0m 13ms/step\n",
            "[[0.34556025 0.94954836]]\n",
            "[1]\n",
            "The tumor is Benign\n"
          ]
        },
        {
          "name": "stderr",
          "output_type": "stream",
          "text": [
            "c:\\Users\\priya\\AppData\\Local\\Programs\\Python\\Python312\\Lib\\site-packages\\sklearn\\base.py:493: UserWarning: X does not have valid feature names, but StandardScaler was fitted with feature names\n",
            "  warnings.warn(\n"
          ]
        }
      ],
      "source": [
        "input_data = (11.76,21.6,74.72,427.9,0.08637,0.04966,0.01657,0.01115,0.1495,0.05888,0.4062,1.21,2.635,28.47,0.005857,0.009758,0.01168,0.007445,0.02406,0.001769,12.98,25.72,82.98,516.5,0.1085,0.08615,0.05523,0.03715,0.2433,0.06563)\n",
        "\n",
        "# change the input_data to a numpy array\n",
        "input_data_as_numpy_array = np.asarray(input_data)\n",
        "\n",
        "# reshape the numpy array as we are predicting for one data point\n",
        "input_data_reshaped = input_data_as_numpy_array.reshape(1,-1)\n",
        "\n",
        "# standardizing the input data\n",
        "input_data_std = scaler.transform(input_data_reshaped)\n",
        "\n",
        "prediction = model.predict(input_data_std)\n",
        "print(prediction)\n",
        "\n",
        "prediction_label = [np.argmax(prediction)]\n",
        "print(prediction_label)\n",
        "\n",
        "if(prediction_label[0] == 0):\n",
        "  print('The tumor is Malignant')\n",
        "\n",
        "else:\n",
        "  print('The tumor is Benign')"
      ]
    },
    {
      "cell_type": "code",
      "execution_count": 36,
      "metadata": {
        "id": "W0jvu0aNDDP3"
      },
      "outputs": [
        {
          "name": "stdout",
          "output_type": "stream",
          "text": [
            "Accuracy:  0.9649122807017544\n",
            "Precision:  0.9652455738100574\n",
            "Recall:  0.9649122807017544\n",
            "F1 Score:  0.9647641831852358\n"
          ]
        }
      ],
      "source": [
        "from sklearn.metrics import accuracy_score, precision_score, recall_score, f1_score\n",
        "\n",
        "# Calculate evaluation metrics\n",
        "accuracy = accuracy_score(Y_test, Y_pred_labels)\n",
        "precision = precision_score(Y_test, Y_pred_labels, average='weighted')\n",
        "recall = recall_score(Y_test, Y_pred_labels, average='weighted')\n",
        "f1 = f1_score(Y_test, Y_pred_labels, average='weighted')\n",
        "\n",
        "print(\"Accuracy: \", accuracy)\n",
        "print(\"Precision: \", precision)\n",
        "print(\"Recall: \", recall)\n",
        "print(\"F1 Score: \", f1)"
      ]
    }
  ],
  "metadata": {
    "colab": {
      "provenance": []
    },
    "kernelspec": {
      "display_name": "Python 3",
      "name": "python3"
    },
    "language_info": {
      "codemirror_mode": {
        "name": "ipython",
        "version": 3
      },
      "file_extension": ".py",
      "mimetype": "text/x-python",
      "name": "python",
      "nbconvert_exporter": "python",
      "pygments_lexer": "ipython3",
      "version": "3.12.4"
    }
  },
  "nbformat": 4,
  "nbformat_minor": 0
}
